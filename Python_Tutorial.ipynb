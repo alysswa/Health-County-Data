{
 "cells": [
  {
   "cell_type": "markdown",
   "id": "74f2fd72-1b18-463b-b4e8-83fdd94d7d02",
   "metadata": {},
   "source": [
    "### Tutorial : Creating Public Health Data Subset\n",
    "\n",
    "##### Outline\n",
    "1. Overview\n",
    "2. Setting Up\n",
    "3. Examination\n",
    "4. Filtering\n",
    "5. Finish and Saving\n",
    "\n",
    "This notebook will guide you through a step by step tutorial in order to recreate a data subset in a .csv file format.\n",
    "\n",
    "- There will be example guides throughout this tutorial for extra help. Please reference as needed.\n",
    "\n",
    "**The data set** (a .csv file) in use is [CountyHealthData_2014-2015.csv](https://uncch.instructure.com/courses/11001/files/1951171/download?download_frd=1) which can be downloaded at the link.\n",
    "\n",
    "Python commands and functions will be provided in this tutorial. For new users, press the play button or shift+enter to run your code. "
   ]
  },
  {
   "cell_type": "markdown",
   "id": "df684117-3b1d-47ae-a5bd-a83c4dc9f470",
   "metadata": {},
   "source": [
    "### Setting Up\n",
    "\n",
    "1) **Download** the dataset file linked above and ensure it is saved in the same folder as this notebook on your computer.\n",
    "2) **Importing Packages** \n",
    "\n",
    "Packages are sets of additional functions and tools that aren't included in base Python. They will help us perform special fuctions in this tutorial.\n",
    "   \n",
    "   1) We will import the `pandas` and `numpy` packages to help us navigate our data.\n",
    "   2) Use the `import <> as <>` function to import the name of the packages.\n",
    "    \n",
    "As in the example shown below, we will import these packages as abbreviated names `pd` and `np` for convenience."
   ]
  },
  {
   "cell_type": "code",
   "execution_count": 40,
   "id": "5202ef8e-f36b-4704-8ab2-ae29f5d38442",
   "metadata": {},
   "outputs": [],
   "source": [
    "import pandas as pd\n",
    "import numpy as np"
   ]
  },
  {
   "cell_type": "markdown",
   "id": "631b9d11-274d-4739-8640-d04f8f599ddb",
   "metadata": {},
   "source": [
    "Next, we will create our **dataframe object** by reading it through the pandas package. \n",
    "\n",
    "Use the function `pd.read_csv()` to read your .csv file, in this case **\"CountyHealthData_2014-2015.csv\"**, and create your dataframe as shown below.\n",
    "\n",
    "We will assign our function to our abbreviated dataframe object `df` "
   ]
  },
  {
   "cell_type": "code",
   "execution_count": 41,
   "id": "9781bc37-3046-49e1-91e4-ae5888d83889",
   "metadata": {},
   "outputs": [],
   "source": [
    "df=pd.read_csv(\"CountyHealthData_2014-2015.csv\")"
   ]
  },
  {
   "cell_type": "markdown",
   "id": "aa538dd7-37aa-4809-aaed-1bbd2a13f21d",
   "metadata": {},
   "source": [
    "### Examining for Main Parameters\n",
    "\n",
    "After setting our dataframe up, we can quickly analyze some parameters of our dataframe object. \n",
    "\n",
    "- The base function takes the format \n",
    "\n",
    "`df.<parameter>` with `df` representing our dataframe `object`.\n",
    "\n",
    "- For example, we can examine \n",
    "\n",
    " *the size, shape, number of rows or columns, specific regions of our data, and even generate random samples.*\n",
    "\n",
    "- We would plug these attributes into the `df.<paramter>`command to execute these functions.\n",
    "\n",
    "Let's try a couple of them. We will find the **shape, size, and all the columns** in this tutorial. "
   ]
  },
  {
   "cell_type": "markdown",
   "id": "2066fdf5-ff1a-47c0-b567-c0e909351769",
   "metadata": {},
   "source": [
    "#### Example Guided Practice\n",
    "- To find the shape of our object, we would plug the shape command into our base function\n",
    "\n",
    "`df.shape`\n",
    "\n",
    "The process can be repeated with the different commands listed above as well. "
   ]
  },
  {
   "cell_type": "code",
   "execution_count": 36,
   "id": "e207ca2a-9255-4578-92f2-0b44023db3e0",
   "metadata": {},
   "outputs": [
    {
     "data": {
      "text/plain": [
       "(6109, 64)"
      ]
     },
     "execution_count": 36,
     "metadata": {},
     "output_type": "execute_result"
    }
   ],
   "source": [
    "df.shape"
   ]
  },
  {
   "cell_type": "code",
   "execution_count": 37,
   "id": "2e51b68c-9be8-40c8-8017-3ed151896e80",
   "metadata": {},
   "outputs": [
    {
     "data": {
      "text/plain": [
       "390976"
      ]
     },
     "execution_count": 37,
     "metadata": {},
     "output_type": "execute_result"
    }
   ],
   "source": [
    "df.size"
   ]
  },
  {
   "cell_type": "code",
   "execution_count": 38,
   "id": "4b9e1f11-e24c-438d-8738-0a58a8be84f2",
   "metadata": {},
   "outputs": [
    {
     "data": {
      "text/plain": [
       "Index(['State', 'Region', 'Division', 'County', 'FIPS', 'GEOID', 'SMS Region',\n",
       "       'Year', 'Premature death', 'Poor or fair health',\n",
       "       'Poor physical health days', 'Poor mental health days',\n",
       "       'Low birthweight', 'Adult smoking', 'Adult obesity',\n",
       "       'Food environment index', 'Physical inactivity',\n",
       "       'Access to exercise opportunities', 'Excessive drinking',\n",
       "       'Alcohol-impaired driving deaths', 'Sexually transmitted infections',\n",
       "       'Teen births', 'Uninsured', 'Primary care physicians', 'Dentists',\n",
       "       'Mental health providers', 'Preventable hospital stays',\n",
       "       'Diabetic screening', 'Mammography screening', 'High school graduation',\n",
       "       'Some college', 'Unemployment', 'Children in poverty',\n",
       "       'Income inequality', 'Children in single-parent households',\n",
       "       'Social associations', 'Violent crime', 'Injury deaths',\n",
       "       'Air pollution - particulate matter', 'Drinking water violations',\n",
       "       'Severe housing problems', 'Driving alone to work',\n",
       "       'Long commute - driving alone', '2011 population estimate',\n",
       "       'Population that is not proficient in English',\n",
       "       'Population living in a rural area', 'Diabetes', 'HIV prevalence rate',\n",
       "       'Premature age-adjusted mortality', 'Infant mortality',\n",
       "       'Child mortality', 'Food insecurity', 'Limited access to healthy foods',\n",
       "       'Motor vehicle crash deaths', 'Drug poisoning deaths',\n",
       "       'Uninsured adults', 'Uninsured children', 'Health care costs',\n",
       "       'Could not see doctor due to cost', 'Other primary care providers',\n",
       "       'Median household income', 'Children eligible for free lunch',\n",
       "       'Homicide rate', 'Inadequate social support'],\n",
       "      dtype='object')"
      ]
     },
     "execution_count": 38,
     "metadata": {},
     "output_type": "execute_result"
    }
   ],
   "source": [
    "df.columns"
   ]
  },
  {
   "cell_type": "markdown",
   "id": "1a063e31-85f5-40e1-920a-17ff685e3f3a",
   "metadata": {},
   "source": [
    "### Filtering \n",
    "\n",
    "Exploring these parameters gives us a *quick overview of key points* in our data. \n",
    "\n",
    "From these commands, we can now begin to **filter our data** to create a focused subset to analyze.\n",
    "\n",
    "- We will create an area of analysis through the the `.loc` function. \n",
    "\n",
    "- `.loc` allows us to filter our data based on **qualitative parameters** instead of numeric parameters, which would use the `.iloc` command.\n",
    "\n",
    "In this tutorial, we will create a data subset that focuses on the columns:\n",
    "\n",
    "    \"state\", \"county\", \"health care costs\", \"median husehold income\", and \"poor or fair health\"\n",
    "\n",
    "By filtering these columns, as identified in our examining step, we can focus and compare these factors to each other."
   ]
  },
  {
   "cell_type": "markdown",
   "id": "3889cc01-0ced-47f2-a084-b5b5c48cd421",
   "metadata": {},
   "source": [
    "#### Example Guided Practice\n",
    "- Attach the `.loc` command to our datatframe object `df`\n",
    "\n",
    "`df.loc`\n",
    "\n",
    "- Include the column parameters listed above within the brackets of the `.loc` function below.\n",
    "\n",
    "`df.loc[:,[\"parameter\",\"paramter2\"]`"
   ]
  },
  {
   "cell_type": "markdown",
   "id": "9066c45e-cd30-47ea-94a3-c59e25978569",
   "metadata": {},
   "source": [
    "In this tutorial, we will create a small sample of *10* examples. \n",
    "- Attach the sample command to the *end* of the function you created as\n",
    "\n",
    "`.sample(n=10)`\n",
    "\n",
    "The n stands for the sample size and can be customized."
   ]
  },
  {
   "cell_type": "code",
   "execution_count": 49,
   "id": "6ee92117-5018-448f-af40-628494f550e1",
   "metadata": {},
   "outputs": [
    {
     "data": {
      "text/html": [
       "<div>\n",
       "<style scoped>\n",
       "    .dataframe tbody tr th:only-of-type {\n",
       "        vertical-align: middle;\n",
       "    }\n",
       "\n",
       "    .dataframe tbody tr th {\n",
       "        vertical-align: top;\n",
       "    }\n",
       "\n",
       "    .dataframe thead th {\n",
       "        text-align: right;\n",
       "    }\n",
       "</style>\n",
       "<table border=\"1\" class=\"dataframe\">\n",
       "  <thead>\n",
       "    <tr style=\"text-align: right;\">\n",
       "      <th></th>\n",
       "      <th>State</th>\n",
       "      <th>County</th>\n",
       "      <th>Health care costs</th>\n",
       "      <th>Median household income</th>\n",
       "      <th>Poor or fair health</th>\n",
       "    </tr>\n",
       "  </thead>\n",
       "  <tbody>\n",
       "    <tr>\n",
       "      <th>1722</th>\n",
       "      <td>IN</td>\n",
       "      <td>Union County</td>\n",
       "      <td>9603.0</td>\n",
       "      <td>44796</td>\n",
       "      <td>0.154</td>\n",
       "    </tr>\n",
       "    <tr>\n",
       "      <th>3467</th>\n",
       "      <td>ND</td>\n",
       "      <td>Eddy County</td>\n",
       "      <td>9410.0</td>\n",
       "      <td>42908</td>\n",
       "      <td>0.128</td>\n",
       "    </tr>\n",
       "    <tr>\n",
       "      <th>5647</th>\n",
       "      <td>VA</td>\n",
       "      <td>Richmond city</td>\n",
       "      <td>8565.0</td>\n",
       "      <td>37933</td>\n",
       "      <td>0.162</td>\n",
       "    </tr>\n",
       "    <tr>\n",
       "      <th>1917</th>\n",
       "      <td>KS</td>\n",
       "      <td>Sheridan County</td>\n",
       "      <td>10250.0</td>\n",
       "      <td>50601</td>\n",
       "      <td>NaN</td>\n",
       "    </tr>\n",
       "    <tr>\n",
       "      <th>3518</th>\n",
       "      <td>ND</td>\n",
       "      <td>Sioux County</td>\n",
       "      <td>7815.0</td>\n",
       "      <td>34491</td>\n",
       "      <td>0.268</td>\n",
       "    </tr>\n",
       "    <tr>\n",
       "      <th>5220</th>\n",
       "      <td>TX</td>\n",
       "      <td>Milam County</td>\n",
       "      <td>11865.0</td>\n",
       "      <td>40120</td>\n",
       "      <td>0.327</td>\n",
       "    </tr>\n",
       "    <tr>\n",
       "      <th>2706</th>\n",
       "      <td>MN</td>\n",
       "      <td>Pope County</td>\n",
       "      <td>8479.0</td>\n",
       "      <td>55404</td>\n",
       "      <td>0.089</td>\n",
       "    </tr>\n",
       "    <tr>\n",
       "      <th>5093</th>\n",
       "      <td>TX</td>\n",
       "      <td>Hamilton County</td>\n",
       "      <td>10419.0</td>\n",
       "      <td>37386</td>\n",
       "      <td>NaN</td>\n",
       "    </tr>\n",
       "    <tr>\n",
       "      <th>5409</th>\n",
       "      <td>UT</td>\n",
       "      <td>Morgan County</td>\n",
       "      <td>7711.0</td>\n",
       "      <td>75348</td>\n",
       "      <td>0.052</td>\n",
       "    </tr>\n",
       "    <tr>\n",
       "      <th>2148</th>\n",
       "      <td>KY</td>\n",
       "      <td>Rockcastle County</td>\n",
       "      <td>9954.0</td>\n",
       "      <td>33131</td>\n",
       "      <td>0.276</td>\n",
       "    </tr>\n",
       "  </tbody>\n",
       "</table>\n",
       "</div>"
      ],
      "text/plain": [
       "     State             County  Health care costs  Median household income  \\\n",
       "1722    IN       Union County             9603.0                    44796   \n",
       "3467    ND        Eddy County             9410.0                    42908   \n",
       "5647    VA      Richmond city             8565.0                    37933   \n",
       "1917    KS    Sheridan County            10250.0                    50601   \n",
       "3518    ND       Sioux County             7815.0                    34491   \n",
       "5220    TX       Milam County            11865.0                    40120   \n",
       "2706    MN        Pope County             8479.0                    55404   \n",
       "5093    TX    Hamilton County            10419.0                    37386   \n",
       "5409    UT      Morgan County             7711.0                    75348   \n",
       "2148    KY  Rockcastle County             9954.0                    33131   \n",
       "\n",
       "      Poor or fair health  \n",
       "1722                0.154  \n",
       "3467                0.128  \n",
       "5647                0.162  \n",
       "1917                  NaN  \n",
       "3518                0.268  \n",
       "5220                0.327  \n",
       "2706                0.089  \n",
       "5093                  NaN  \n",
       "5409                0.052  \n",
       "2148                0.276  "
      ]
     },
     "execution_count": 49,
     "metadata": {},
     "output_type": "execute_result"
    }
   ],
   "source": [
    "df.loc[:,[\"State\",\"County\",\"Health care costs\",\"Median household income\",\"Poor or fair health\"]].sample(n=10)"
   ]
  },
  {
   "cell_type": "markdown",
   "id": "842f7057-8329-4b8d-8a32-b616a6cc9779",
   "metadata": {},
   "source": [
    "### Finishing and Saving\n",
    "To save this subset we created, we will assign it to a new object for convenience. \n",
    "- Name the subset `Sample_subset` by assigning the previous code to the `Sample_subset` object."
   ]
  },
  {
   "cell_type": "code",
   "execution_count": 50,
   "id": "608f69e3-6234-495d-bb49-23185169f9a2",
   "metadata": {},
   "outputs": [],
   "source": [
    "Sample_subset = df.loc[:,[\"State\",\"County\",\"Health care costs\",\"Median household income\",\"Poor or fair health\"]].sample(n=10).copy()"
   ]
  },
  {
   "cell_type": "markdown",
   "id": "90ce7e60-e076-4955-a16a-9859162f654e",
   "metadata": {},
   "source": [
    "**Save** the finished data subset as a .csv file for future use with the command \n",
    "\n",
    "`.to_csv(\"file.csv\", index=False)`\n",
    "\n",
    "- Apply the function to the `Sample_subset` object created in the last step \n",
    "\n",
    "- fill the `file` portion of the function in as the name of the .csv file, which in this case would be our `Sample_subset`"
   ]
  },
  {
   "cell_type": "code",
   "execution_count": 52,
   "id": "c8a69555-0d9c-459c-83c2-5e7ee0edac4d",
   "metadata": {},
   "outputs": [],
   "source": [
    "Sample_subset.to_csv(\"Sample_subset.csv\", index=False)"
   ]
  },
  {
   "cell_type": "markdown",
   "id": "8211604e-f130-4d51-86d2-7772e65f01a2",
   "metadata": {},
   "source": [
    "### Congratulations! \n",
    "*You created a subset!*\n",
    "A .csv file named `Sample_subset.csv` should appear in the folder used to open this notebook. The subset is a seperate .csv file and can be used in the future for analysis."
   ]
  }
 ],
 "metadata": {
  "kernelspec": {
   "display_name": "Python 3 (ipykernel)",
   "language": "python",
   "name": "python3"
  },
  "language_info": {
   "codemirror_mode": {
    "name": "ipython",
    "version": 3
   },
   "file_extension": ".py",
   "mimetype": "text/x-python",
   "name": "python",
   "nbconvert_exporter": "python",
   "pygments_lexer": "ipython3",
   "version": "3.9.13"
  }
 },
 "nbformat": 4,
 "nbformat_minor": 5
}
